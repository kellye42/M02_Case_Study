{
 "cells": [
  {
   "cell_type": "code",
   "execution_count": 1,
   "id": "29461431",
   "metadata": {},
   "outputs": [
    {
     "name": "stdout",
     "output_type": "stream",
     "text": [
      "What is your last name? Kelly\n",
      "What is your first name? Elliott\n",
      "What is your GPA? 3.50\n",
      "Elliott Kelly you have made the Dean's List.\n",
      "\n",
      "What is your last name? Johnson\n",
      "What is your first name? Bill\n",
      "What is your GPA? 3.49\n",
      "Bill Johnson you have made the Honor Roll.\n",
      "\n",
      "What is your last name? Smith\n",
      "What is your first name? John\n",
      "What is your GPA? 3.25\n",
      "John Smith you have made the Honor Roll.\n",
      "\n",
      "What is your last name? Thomas\n",
      "What is your first name? Barbara\n",
      "What is your GPA? 3.24\n",
      "\n",
      "\n",
      "What is your last name? Lou\n",
      "What is your first name? Cindy\n",
      "What is your GPA? 3.63\n",
      "Cindy Lou you have made the Dean's List.\n",
      "\n",
      "What is your last name? ZZZ\n"
     ]
    }
   ],
   "source": [
    "# Elliott Kelly\n",
    "# SDEV220_M02_Case_Study.ipynb\n",
    "# This app will evaluate if students are eligible\n",
    "# for the Dean's List or Honor Roll\n",
    "\n",
    "lastname = input(\"What is your last name? \")\n",
    "while lastname != \"ZZZ\":\n",
    "    firstname = input(\"What is your first name? \")\n",
    "    GPA = float(input(\"What is your GPA? \"))\n",
    "    \n",
    "    if GPA >= 3.5:\n",
    "        print(f\"{firstname} {lastname} you have made the Dean's List.\\n\")\n",
    "    elif GPA >= 3.25:\n",
    "        print(f\"{firstname} {lastname} you have made the Honor Roll.\\n\")\n",
    "    else:\n",
    "        print(\"\\n\")\n",
    "    lastname = input(\"What is your last name? \")"
   ]
  },
  {
   "cell_type": "code",
   "execution_count": null,
   "id": "7687ea84",
   "metadata": {},
   "outputs": [],
   "source": []
  }
 ],
 "metadata": {
  "kernelspec": {
   "display_name": "Python 3 (ipykernel)",
   "language": "python",
   "name": "python3"
  },
  "language_info": {
   "codemirror_mode": {
    "name": "ipython",
    "version": 3
   },
   "file_extension": ".py",
   "mimetype": "text/x-python",
   "name": "python",
   "nbconvert_exporter": "python",
   "pygments_lexer": "ipython3",
   "version": "3.9.13"
  }
 },
 "nbformat": 4,
 "nbformat_minor": 5
}
